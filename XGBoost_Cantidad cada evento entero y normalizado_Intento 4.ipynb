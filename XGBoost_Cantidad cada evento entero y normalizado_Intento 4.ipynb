{
 "cells": [
  {
   "cell_type": "code",
   "execution_count": 1,
   "metadata": {},
   "outputs": [],
   "source": [
    "import xgboost as xgb\n",
    "from sklearn.metrics import mean_squared_error\n",
    "import pandas as pd\n",
    "import numpy as np"
   ]
  },
  {
   "cell_type": "code",
   "execution_count": 2,
   "metadata": {},
   "outputs": [
    {
     "name": "stderr",
     "output_type": "stream",
     "text": [
      "C:\\Users\\Santi\\AppData\\Roaming\\Python\\Python36\\site-packages\\IPython\\core\\interactiveshell.py:2728: DtypeWarning: Columns (3,5,6,7,8,9,10,11,12,13,14,15,16,17,18,19,20,21,22) have mixed types. Specify dtype option on import or set low_memory=False.\n",
      "  interactivity=interactivity, compiler=compiler, result=result)\n"
     ]
    }
   ],
   "source": [
    "tabla_completa = pd.read_csv('events_up_to_01062018.csv');\n",
    "res = pd.read_csv('labels_training_set.csv');"
   ]
  },
  {
   "cell_type": "code",
   "execution_count": 3,
   "metadata": {},
   "outputs": [],
   "source": [
    "tabla_completa['aux']=1\n",
    "#Voy a contar la cantidad para cada tipo de evento de cada persona\n",
    "num_eventos = tabla_completa.groupby(['person','event'])['aux'].sum()\n",
    "\n",
    "num_eventos = num_eventos.unstack().reset_index().fillna(0)\n",
    "num_eventos = num_eventos.set_index('person')\n",
    "num_eventos['total_eventos'] = num_eventos.sum(axis=1)\n",
    "#normalizo los numeros obtenidos según la cantidad de eventos totales de esa persona\n",
    "num_eventos_norm = num_eventos.loc[:,\"ad campaign hit\":\"visited site\"].div(num_eventos[\"total_eventos\"], axis=0)\n",
    "#num_eventos.sort_values(by='conversion',ascending=False)\n",
    "#num_eventos_norm.sort_values(by='conversion',ascending=False)\n"
   ]
  },
  {
   "cell_type": "code",
   "execution_count": 4,
   "metadata": {},
   "outputs": [
    {
     "data": {
      "text/html": [
       "<div>\n",
       "<style scoped>\n",
       "    .dataframe tbody tr th:only-of-type {\n",
       "        vertical-align: middle;\n",
       "    }\n",
       "\n",
       "    .dataframe tbody tr th {\n",
       "        vertical-align: top;\n",
       "    }\n",
       "\n",
       "    .dataframe thead th {\n",
       "        text-align: right;\n",
       "    }\n",
       "</style>\n",
       "<table border=\"1\" class=\"dataframe\">\n",
       "  <thead>\n",
       "    <tr style=\"text-align: right;\">\n",
       "      <th>event</th>\n",
       "      <th>person</th>\n",
       "      <th>ad campaign hit_x</th>\n",
       "      <th>brand listing_x</th>\n",
       "      <th>checkout_x</th>\n",
       "      <th>conversion_x</th>\n",
       "      <th>generic listing_x</th>\n",
       "      <th>lead_x</th>\n",
       "      <th>search engine hit_x</th>\n",
       "      <th>searched products_x</th>\n",
       "      <th>staticpage_x</th>\n",
       "      <th>...</th>\n",
       "      <th>brand listing_y</th>\n",
       "      <th>checkout_y</th>\n",
       "      <th>conversion_y</th>\n",
       "      <th>generic listing_y</th>\n",
       "      <th>lead_y</th>\n",
       "      <th>search engine hit_y</th>\n",
       "      <th>searched products_y</th>\n",
       "      <th>staticpage_y</th>\n",
       "      <th>viewed product_y</th>\n",
       "      <th>visited site_y</th>\n",
       "    </tr>\n",
       "  </thead>\n",
       "  <tbody>\n",
       "    <tr>\n",
       "      <th>0</th>\n",
       "      <td>0008ed71</td>\n",
       "      <td>0.0</td>\n",
       "      <td>0.0</td>\n",
       "      <td>3.0</td>\n",
       "      <td>0.0</td>\n",
       "      <td>1.0</td>\n",
       "      <td>0.0</td>\n",
       "      <td>0.0</td>\n",
       "      <td>0.0</td>\n",
       "      <td>0.0</td>\n",
       "      <td>...</td>\n",
       "      <td>0.000000</td>\n",
       "      <td>0.500000</td>\n",
       "      <td>0.000000</td>\n",
       "      <td>0.166667</td>\n",
       "      <td>0.0</td>\n",
       "      <td>0.000000</td>\n",
       "      <td>0.000000</td>\n",
       "      <td>0.0</td>\n",
       "      <td>0.000000</td>\n",
       "      <td>0.333333</td>\n",
       "    </tr>\n",
       "    <tr>\n",
       "      <th>1</th>\n",
       "      <td>00091926</td>\n",
       "      <td>15.0</td>\n",
       "      <td>25.0</td>\n",
       "      <td>2.0</td>\n",
       "      <td>0.0</td>\n",
       "      <td>0.0</td>\n",
       "      <td>0.0</td>\n",
       "      <td>0.0</td>\n",
       "      <td>0.0</td>\n",
       "      <td>0.0</td>\n",
       "      <td>...</td>\n",
       "      <td>0.055804</td>\n",
       "      <td>0.004464</td>\n",
       "      <td>0.000000</td>\n",
       "      <td>0.000000</td>\n",
       "      <td>0.0</td>\n",
       "      <td>0.000000</td>\n",
       "      <td>0.000000</td>\n",
       "      <td>0.0</td>\n",
       "      <td>0.830357</td>\n",
       "      <td>0.075893</td>\n",
       "    </tr>\n",
       "    <tr>\n",
       "      <th>2</th>\n",
       "      <td>00091a7a</td>\n",
       "      <td>1.0</td>\n",
       "      <td>5.0</td>\n",
       "      <td>0.0</td>\n",
       "      <td>0.0</td>\n",
       "      <td>0.0</td>\n",
       "      <td>0.0</td>\n",
       "      <td>0.0</td>\n",
       "      <td>0.0</td>\n",
       "      <td>0.0</td>\n",
       "      <td>...</td>\n",
       "      <td>0.500000</td>\n",
       "      <td>0.000000</td>\n",
       "      <td>0.000000</td>\n",
       "      <td>0.000000</td>\n",
       "      <td>0.0</td>\n",
       "      <td>0.000000</td>\n",
       "      <td>0.000000</td>\n",
       "      <td>0.0</td>\n",
       "      <td>0.300000</td>\n",
       "      <td>0.100000</td>\n",
       "    </tr>\n",
       "    <tr>\n",
       "      <th>3</th>\n",
       "      <td>000ba417</td>\n",
       "      <td>1.0</td>\n",
       "      <td>24.0</td>\n",
       "      <td>6.0</td>\n",
       "      <td>1.0</td>\n",
       "      <td>14.0</td>\n",
       "      <td>0.0</td>\n",
       "      <td>1.0</td>\n",
       "      <td>0.0</td>\n",
       "      <td>0.0</td>\n",
       "      <td>...</td>\n",
       "      <td>0.116505</td>\n",
       "      <td>0.029126</td>\n",
       "      <td>0.004854</td>\n",
       "      <td>0.067961</td>\n",
       "      <td>0.0</td>\n",
       "      <td>0.004854</td>\n",
       "      <td>0.000000</td>\n",
       "      <td>0.0</td>\n",
       "      <td>0.742718</td>\n",
       "      <td>0.029126</td>\n",
       "    </tr>\n",
       "    <tr>\n",
       "      <th>4</th>\n",
       "      <td>000c79fe</td>\n",
       "      <td>1.0</td>\n",
       "      <td>0.0</td>\n",
       "      <td>1.0</td>\n",
       "      <td>0.0</td>\n",
       "      <td>1.0</td>\n",
       "      <td>0.0</td>\n",
       "      <td>1.0</td>\n",
       "      <td>9.0</td>\n",
       "      <td>0.0</td>\n",
       "      <td>...</td>\n",
       "      <td>0.000000</td>\n",
       "      <td>0.058824</td>\n",
       "      <td>0.000000</td>\n",
       "      <td>0.058824</td>\n",
       "      <td>0.0</td>\n",
       "      <td>0.058824</td>\n",
       "      <td>0.529412</td>\n",
       "      <td>0.0</td>\n",
       "      <td>0.176471</td>\n",
       "      <td>0.058824</td>\n",
       "    </tr>\n",
       "  </tbody>\n",
       "</table>\n",
       "<p>5 rows × 24 columns</p>\n",
       "</div>"
      ],
      "text/plain": [
       "event    person  ad campaign hit_x  brand listing_x  checkout_x  conversion_x  \\\n",
       "0      0008ed71                0.0              0.0         3.0           0.0   \n",
       "1      00091926               15.0             25.0         2.0           0.0   \n",
       "2      00091a7a                1.0              5.0         0.0           0.0   \n",
       "3      000ba417                1.0             24.0         6.0           1.0   \n",
       "4      000c79fe                1.0              0.0         1.0           0.0   \n",
       "\n",
       "event  generic listing_x  lead_x  search engine hit_x  searched products_x  \\\n",
       "0                    1.0     0.0                  0.0                  0.0   \n",
       "1                    0.0     0.0                  0.0                  0.0   \n",
       "2                    0.0     0.0                  0.0                  0.0   \n",
       "3                   14.0     0.0                  1.0                  0.0   \n",
       "4                    1.0     0.0                  1.0                  9.0   \n",
       "\n",
       "event  staticpage_x       ...        brand listing_y  checkout_y  \\\n",
       "0               0.0       ...               0.000000    0.500000   \n",
       "1               0.0       ...               0.055804    0.004464   \n",
       "2               0.0       ...               0.500000    0.000000   \n",
       "3               0.0       ...               0.116505    0.029126   \n",
       "4               0.0       ...               0.000000    0.058824   \n",
       "\n",
       "event  conversion_y  generic listing_y  lead_y  search engine hit_y  \\\n",
       "0          0.000000           0.166667     0.0             0.000000   \n",
       "1          0.000000           0.000000     0.0             0.000000   \n",
       "2          0.000000           0.000000     0.0             0.000000   \n",
       "3          0.004854           0.067961     0.0             0.004854   \n",
       "4          0.000000           0.058824     0.0             0.058824   \n",
       "\n",
       "event  searched products_y  staticpage_y  viewed product_y  visited site_y  \n",
       "0                 0.000000           0.0          0.000000        0.333333  \n",
       "1                 0.000000           0.0          0.830357        0.075893  \n",
       "2                 0.000000           0.0          0.300000        0.100000  \n",
       "3                 0.000000           0.0          0.742718        0.029126  \n",
       "4                 0.529412           0.0          0.176471        0.058824  \n",
       "\n",
       "[5 rows x 24 columns]"
      ]
     },
     "execution_count": 4,
     "metadata": {},
     "output_type": "execute_result"
    }
   ],
   "source": [
    "num_eventos_norm = num_eventos_norm.reset_index()\n",
    "num_eventos = num_eventos.reset_index()\n",
    "total_eventos = pd.merge(num_eventos,num_eventos_norm, on='person',how='inner')\n",
    "total_eventos.head()"
   ]
  },
  {
   "cell_type": "code",
   "execution_count": 5,
   "metadata": {},
   "outputs": [],
   "source": [
    "intento = total_eventos.drop(['conversion_x','conversion_y'],axis='columns')\n",
    "intento_f = pd.merge(intento,res,on='person',how='inner')\n",
    "\n",
    "intento_f = intento_f.set_index('person')"
   ]
  },
  {
   "cell_type": "code",
   "execution_count": 6,
   "metadata": {},
   "outputs": [],
   "source": [
    "final = pd.read_csv('trocafone_kaggle_test.csv')\n",
    "final = pd.merge(intento,final,on='person',how='inner')\n",
    "final = final.set_index('person')\n",
    "x_entrega = final"
   ]
  },
  {
   "cell_type": "code",
   "execution_count": 7,
   "metadata": {},
   "outputs": [],
   "source": [
    "#XGBoost\n",
    "\n",
    "X, y = intento_f.iloc[:,:-1],intento_f.iloc[:,-1]\n",
    "data_dmatrix = xgb.DMatrix(data=X,label=y)\n"
   ]
  },
  {
   "cell_type": "code",
   "execution_count": 8,
   "metadata": {},
   "outputs": [
    {
     "data": {
      "text/plain": [
       "XGBRegressor(alpha=7, base_score=0.5, booster='gbtree', colsample_bylevel=1,\n",
       "       colsample_bytree=0.3, gamma=0, learning_rate=0.1, max_delta_step=0,\n",
       "       max_depth=5, min_child_weight=1, missing=None, n_estimators=10,\n",
       "       n_jobs=1, nthread=None, objective='reg:linear', random_state=0,\n",
       "       reg_alpha=0, reg_lambda=1, scale_pos_weight=1, seed=None,\n",
       "       silent=True, subsample=1)"
      ]
     },
     "execution_count": 8,
     "metadata": {},
     "output_type": "execute_result"
    }
   ],
   "source": [
    "from sklearn.model_selection import train_test_split\n",
    "\n",
    "X_train, X_test, y_train, y_test = \\\n",
    "    train_test_split(X, y, test_size=0.2, random_state=123)\n",
    "    \n",
    "xg_reg = xgb.XGBRegressor(objective ='reg:linear', \n",
    "                colsample_bytree = 0.3, learning_rate = 0.1,\n",
    "                max_depth = 5, alpha = 7, n_estimators = 10)\n",
    "\n",
    "xg_reg.fit(X_train,y_train)"
   ]
  },
  {
   "cell_type": "code",
   "execution_count": 9,
   "metadata": {},
   "outputs": [
    {
     "name": "stdout",
     "output_type": "stream",
     "text": [
      "RMSE: 0.264017\n"
     ]
    }
   ],
   "source": [
    "preds = xg_reg.predict(X_test)\n",
    "rmse = np.sqrt(mean_squared_error(y_test, preds))\n",
    "print(\"RMSE: %f\" % (rmse))"
   ]
  },
  {
   "cell_type": "code",
   "execution_count": 10,
   "metadata": {},
   "outputs": [],
   "source": [
    "entrega = xg_reg.predict(x_entrega)\n",
    "y_summit = pd.DataFrame(entrega)\n",
    "y_summit.columns = ['label']\n",
    "y_summit['person'] = x_entrega.reset_index()['person']\n",
    "y_person = x_entrega.reset_index()['person']\n",
    "\n",
    "y_summit = y_summit[['person','label']]\n",
    "y_summit.to_csv('summit06.csv', index=False)"
   ]
  },
  {
   "cell_type": "code",
   "execution_count": 11,
   "metadata": {},
   "outputs": [
    {
     "data": {
      "text/plain": [
       "person    fffd1246\n",
       "label     0.436373\n",
       "dtype: object"
      ]
     },
     "execution_count": 11,
     "metadata": {},
     "output_type": "execute_result"
    }
   ],
   "source": [
    "y_summit.max()"
   ]
  },
  {
   "cell_type": "code",
   "execution_count": null,
   "metadata": {},
   "outputs": [],
   "source": []
  }
 ],
 "metadata": {
  "kernelspec": {
   "display_name": "Python 3",
   "language": "python",
   "name": "python3"
  },
  "language_info": {
   "codemirror_mode": {
    "name": "ipython",
    "version": 3
   },
   "file_extension": ".py",
   "mimetype": "text/x-python",
   "name": "python",
   "nbconvert_exporter": "python",
   "pygments_lexer": "ipython3",
   "version": "3.6.4"
  }
 },
 "nbformat": 4,
 "nbformat_minor": 2
}
