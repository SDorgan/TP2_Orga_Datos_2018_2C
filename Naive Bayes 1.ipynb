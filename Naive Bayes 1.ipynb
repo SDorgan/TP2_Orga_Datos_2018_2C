{
 "cells": [
  {
   "cell_type": "code",
   "execution_count": 1,
   "metadata": {},
   "outputs": [],
   "source": [
    "import pandas as pd\n",
    "from sklearn.model_selection import train_test_split\n",
    "from sklearn.naive_bayes import GaussianNB\n",
    "from sklearn.metrics import accuracy_score"
   ]
  },
  {
   "cell_type": "code",
   "execution_count": null,
   "metadata": {},
   "outputs": [],
   "source": [
    "import numpy as np\n",
    "from sklearn.metrics import mean_squared_error"
   ]
  },
  {
   "cell_type": "code",
   "execution_count": null,
   "metadata": {},
   "outputs": [],
   "source": [
    "tabla_completa = pd.read_csv('events_up_to_01062018.csv');\n",
    "tabla_completa.info()"
   ]
  },
  {
   "cell_type": "code",
   "execution_count": null,
   "metadata": {},
   "outputs": [],
   "source": [
    "res = pd.read_csv('labels_training_set.csv');"
   ]
  },
  {
   "cell_type": "code",
   "execution_count": null,
   "metadata": {},
   "outputs": [],
   "source": [
    "tabla_completa['aux']=1\n",
    "#Voy a contar la cantidad para cada tipo de evento de cada persona\n",
    "num_eventos = tabla_completa.groupby(['person','event'])['aux'].sum()\n",
    "\n",
    "num_eventos = num_eventos.unstack().reset_index().fillna(0)\n",
    "num_eventos = num_eventos.set_index('person')\n",
    "num_eventos['total_eventos'] = num_eventos.sum(axis=1)\n",
    "#normalizo los numeros obtenidos según la cantidad de eventos totales de esa persona\n",
    "num_eventos_norm = num_eventos.loc[:,\"ad campaign hit\":\"visited site\"].div(num_eventos[\"total_eventos\"], axis=0)\n",
    "#num_eventos.sort_values(by='conversion',ascending=False)\n",
    "#num_eventos_norm.sort_values(by='conversion',ascending=False)"
   ]
  },
  {
   "cell_type": "code",
   "execution_count": null,
   "metadata": {},
   "outputs": [],
   "source": [
    "tabla_completa['timestamp'] = pd.to_datetime(tabla_completa['timestamp'])\n",
    "#tabla_completa['timestamp'].max() -tabla_completa['timestamp'].min()\n",
    "\n",
    "time_for_user = tabla_completa.groupby(['person'])['timestamp'].apply(lambda x: x.max() - x.min())\n",
    "time_for_user = time_for_user.reset_index()\n",
    "time_for_user['total_horas'] = time_for_user['timestamp'].dt.total_seconds()/3600\n",
    "time_for_user = time_for_user.drop(['timestamp'],axis='columns')"
   ]
  },
  {
   "cell_type": "code",
   "execution_count": null,
   "metadata": {},
   "outputs": [],
   "source": [
    "num_eventos_norm = num_eventos_norm.reset_index()\n",
    "num_eventos = num_eventos.reset_index()\n",
    "total_eventos = pd.merge(num_eventos,num_eventos_norm, on='person',how='inner')\n",
    "total_eventos = pd.merge(total_eventos,time_for_user,on='person',how='inner')"
   ]
  },
  {
   "cell_type": "code",
   "execution_count": null,
   "metadata": {},
   "outputs": [],
   "source": [
    "intento_f = pd.merge(total_eventos,res,on='person',how='inner')\n",
    "intento_f = intento_f.set_index('person')\n",
    "intento_f.head()"
   ]
  },
  {
   "cell_type": "code",
   "execution_count": null,
   "metadata": {},
   "outputs": [],
   "source": [
    "x, y = intento_f.iloc[:,:-1],intento_f.iloc[:,-1]"
   ]
  },
  {
   "cell_type": "code",
   "execution_count": null,
   "metadata": {},
   "outputs": [],
   "source": [
    "test_size = 0.2\n",
    "random_state = 10"
   ]
  },
  {
   "cell_type": "code",
   "execution_count": null,
   "metadata": {},
   "outputs": [],
   "source": [
    "datos_train, datos_test, cat_train, cat_test = train_test_split(x, y, test_size = test_size, random_state = random_state)"
   ]
  },
  {
   "cell_type": "code",
   "execution_count": null,
   "metadata": {},
   "outputs": [],
   "source": [
    "gnb = GaussianNB()"
   ]
  },
  {
   "cell_type": "code",
   "execution_count": null,
   "metadata": {},
   "outputs": [],
   "source": [
    "gnb.fit(datos_train,cat_train)"
   ]
  },
  {
   "cell_type": "code",
   "execution_count": null,
   "metadata": {},
   "outputs": [],
   "source": [
    "cat_pred = gnb.predict(datos_test)\n",
    "\n",
    "print('accuracy: {0:.2f}%'.format(accuracy_score(cat_test,cat_pred)*100))"
   ]
  },
  {
   "cell_type": "code",
   "execution_count": null,
   "metadata": {},
   "outputs": [],
   "source": [
    "rmse = np.sqrt(mean_squared_error(cat_test, cat_pred))\n",
    "print(\"RMSE: %f\" % (rmse))"
   ]
  },
  {
   "cell_type": "code",
   "execution_count": null,
   "metadata": {},
   "outputs": [],
   "source": [
    "final = pd.read_csv('trocafone_kaggle_test.csv')\n",
    "final = pd.merge(total_eventos,final,on='person',how='inner')\n",
    "final = final.set_index('person')\n",
    "x_entrega = final"
   ]
  },
  {
   "cell_type": "code",
   "execution_count": null,
   "metadata": {},
   "outputs": [],
   "source": [
    "entrega = gnb.predict(x_entrega)\n",
    "y_summit = pd.DataFrame(entrega)\n",
    "y_summit.columns = ['label']\n",
    "y_summit['person'] = x_entrega.reset_index()['person']\n",
    "y_person = x_entrega.reset_index()['person']\n",
    "\n",
    "y_summit = y_summit[['person','label']]\n",
    "y_summit.to_csv('summit09.csv', index=False)"
   ]
  },
  {
   "cell_type": "code",
   "execution_count": null,
   "metadata": {},
   "outputs": [],
   "source": [
    "y_summit.max()"
   ]
  }
 ],
 "metadata": {
  "kernelspec": {
   "display_name": "Python 3",
   "language": "python",
   "name": "python3"
  },
  "language_info": {
   "codemirror_mode": {
    "name": "ipython",
    "version": 3
   },
   "file_extension": ".py",
   "mimetype": "text/x-python",
   "name": "python",
   "nbconvert_exporter": "python",
   "pygments_lexer": "ipython3",
   "version": "3.6.4"
  }
 },
 "nbformat": 4,
 "nbformat_minor": 2
}
