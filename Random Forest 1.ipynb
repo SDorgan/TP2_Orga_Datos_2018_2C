{
 "cells": [
  {
   "cell_type": "code",
   "execution_count": 1,
   "metadata": {},
   "outputs": [],
   "source": [
    "import pandas as pd\n",
    "from sklearn.model_selection import train_test_split\n",
    "from sklearn.metrics import accuracy_score\n",
    "import numpy as np\n",
    "from sklearn.metrics import mean_squared_error\n",
    "from sklearn.ensemble import RandomForestClassifier\n",
    "import random"
   ]
  },
  {
   "cell_type": "code",
   "execution_count": 2,
   "metadata": {},
   "outputs": [
    {
     "name": "stderr",
     "output_type": "stream",
     "text": [
      "C:\\Users\\Martín-\\Anaconda3\\lib\\site-packages\\IPython\\core\\interactiveshell.py:2728: DtypeWarning: Columns (3,5,6,7,8,9,10,11,12,13,14,15,16,17,18,19,20,21,22) have mixed types. Specify dtype option on import or set low_memory=False.\n",
      "  interactivity=interactivity, compiler=compiler, result=result)\n"
     ]
    },
    {
     "name": "stdout",
     "output_type": "stream",
     "text": [
      "<class 'pandas.core.frame.DataFrame'>\n",
      "RangeIndex: 2341681 entries, 0 to 2341680\n",
      "Data columns (total 23 columns):\n",
      "timestamp                   object\n",
      "event                       object\n",
      "person                      object\n",
      "url                         object\n",
      "sku                         float64\n",
      "model                       object\n",
      "condition                   object\n",
      "storage                     object\n",
      "color                       object\n",
      "skus                        object\n",
      "search_term                 object\n",
      "staticpage                  object\n",
      "campaign_source             object\n",
      "search_engine               object\n",
      "channel                     object\n",
      "new_vs_returning            object\n",
      "city                        object\n",
      "region                      object\n",
      "country                     object\n",
      "device_type                 object\n",
      "screen_resolution           object\n",
      "operating_system_version    object\n",
      "browser_version             object\n",
      "dtypes: float64(1), object(22)\n",
      "memory usage: 410.9+ MB\n"
     ]
    }
   ],
   "source": [
    "tabla_completa = pd.read_csv('events_up_to_01062018.csv');\n",
    "tabla_completa.info()"
   ]
  },
  {
   "cell_type": "code",
   "execution_count": 3,
   "metadata": {},
   "outputs": [],
   "source": [
    "res = pd.read_csv('labels_training_set.csv')"
   ]
  },
  {
   "cell_type": "code",
   "execution_count": 4,
   "metadata": {},
   "outputs": [],
   "source": [
    "tabla_completa['aux']=1\n",
    "#Voy a contar la cantidad para cada tipo de evento de cada persona\n",
    "num_eventos = tabla_completa.groupby(['person','event'])['aux'].sum()\n",
    "\n",
    "num_eventos = num_eventos.unstack().reset_index().fillna(0)\n",
    "num_eventos = num_eventos.set_index('person')\n",
    "num_eventos['total_eventos'] = num_eventos.sum(axis=1)\n",
    "#normalizo los numeros obtenidos según la cantidad de eventos totales de esa persona\n",
    "num_eventos_norm = num_eventos.loc[:,\"ad campaign hit\":\"visited site\"].div(num_eventos[\"total_eventos\"], axis=0)\n",
    "#num_eventos.sort_values(by='conversion',ascending=False)\n",
    "#num_eventos_norm.sort_values(by='conversion',ascending=False)"
   ]
  },
  {
   "cell_type": "code",
   "execution_count": 5,
   "metadata": {},
   "outputs": [],
   "source": [
    "tabla_completa['timestamp'] = pd.to_datetime(tabla_completa['timestamp'])\n",
    "#tabla_completa['timestamp'].max() -tabla_completa['timestamp'].min()\n",
    "\n",
    "time_for_user = tabla_completa.groupby(['person'])['timestamp'].apply(lambda x: x.max() - x.min())\n",
    "time_for_user = time_for_user.reset_index()\n",
    "time_for_user['total_horas'] = time_for_user['timestamp'].dt.total_seconds()/3600\n",
    "time_for_user = time_for_user.drop(['timestamp'],axis='columns')"
   ]
  },
  {
   "cell_type": "code",
   "execution_count": 6,
   "metadata": {},
   "outputs": [],
   "source": [
    "num_eventos_norm = num_eventos_norm.reset_index()\n",
    "num_eventos = num_eventos.reset_index()\n",
    "total_eventos = pd.merge(num_eventos,num_eventos_norm, on='person',how='inner')\n",
    "total_eventos = pd.merge(total_eventos,time_for_user,on='person',how='inner')"
   ]
  },
  {
   "cell_type": "code",
   "execution_count": 7,
   "metadata": {},
   "outputs": [
    {
     "data": {
      "text/html": [
       "<div>\n",
       "<style scoped>\n",
       "    .dataframe tbody tr th:only-of-type {\n",
       "        vertical-align: middle;\n",
       "    }\n",
       "\n",
       "    .dataframe tbody tr th {\n",
       "        vertical-align: top;\n",
       "    }\n",
       "\n",
       "    .dataframe thead th {\n",
       "        text-align: right;\n",
       "    }\n",
       "</style>\n",
       "<table border=\"1\" class=\"dataframe\">\n",
       "  <thead>\n",
       "    <tr style=\"text-align: right;\">\n",
       "      <th></th>\n",
       "      <th>ad campaign hit_x</th>\n",
       "      <th>brand listing_x</th>\n",
       "      <th>checkout_x</th>\n",
       "      <th>generic listing_x</th>\n",
       "      <th>lead_x</th>\n",
       "      <th>search engine hit_x</th>\n",
       "      <th>searched products_x</th>\n",
       "      <th>staticpage_x</th>\n",
       "      <th>viewed product_x</th>\n",
       "      <th>visited site_x</th>\n",
       "      <th>...</th>\n",
       "      <th>checkout_y</th>\n",
       "      <th>generic listing_y</th>\n",
       "      <th>lead_y</th>\n",
       "      <th>search engine hit_y</th>\n",
       "      <th>searched products_y</th>\n",
       "      <th>staticpage_y</th>\n",
       "      <th>viewed product_y</th>\n",
       "      <th>visited site_y</th>\n",
       "      <th>total_horas</th>\n",
       "      <th>label</th>\n",
       "    </tr>\n",
       "    <tr>\n",
       "      <th>person</th>\n",
       "      <th></th>\n",
       "      <th></th>\n",
       "      <th></th>\n",
       "      <th></th>\n",
       "      <th></th>\n",
       "      <th></th>\n",
       "      <th></th>\n",
       "      <th></th>\n",
       "      <th></th>\n",
       "      <th></th>\n",
       "      <th></th>\n",
       "      <th></th>\n",
       "      <th></th>\n",
       "      <th></th>\n",
       "      <th></th>\n",
       "      <th></th>\n",
       "      <th></th>\n",
       "      <th></th>\n",
       "      <th></th>\n",
       "      <th></th>\n",
       "      <th></th>\n",
       "    </tr>\n",
       "  </thead>\n",
       "  <tbody>\n",
       "    <tr>\n",
       "      <th>0008ed71</th>\n",
       "      <td>0.0</td>\n",
       "      <td>0.0</td>\n",
       "      <td>3.0</td>\n",
       "      <td>1.0</td>\n",
       "      <td>0.0</td>\n",
       "      <td>0.0</td>\n",
       "      <td>0.0</td>\n",
       "      <td>0.0</td>\n",
       "      <td>0.0</td>\n",
       "      <td>2.0</td>\n",
       "      <td>...</td>\n",
       "      <td>0.500000</td>\n",
       "      <td>0.166667</td>\n",
       "      <td>0.0</td>\n",
       "      <td>0.000000</td>\n",
       "      <td>0.000000</td>\n",
       "      <td>0.0</td>\n",
       "      <td>0.000000</td>\n",
       "      <td>0.333333</td>\n",
       "      <td>4.013889</td>\n",
       "      <td>0</td>\n",
       "    </tr>\n",
       "    <tr>\n",
       "      <th>000c79fe</th>\n",
       "      <td>1.0</td>\n",
       "      <td>0.0</td>\n",
       "      <td>1.0</td>\n",
       "      <td>1.0</td>\n",
       "      <td>0.0</td>\n",
       "      <td>1.0</td>\n",
       "      <td>9.0</td>\n",
       "      <td>0.0</td>\n",
       "      <td>3.0</td>\n",
       "      <td>1.0</td>\n",
       "      <td>...</td>\n",
       "      <td>0.058824</td>\n",
       "      <td>0.058824</td>\n",
       "      <td>0.0</td>\n",
       "      <td>0.058824</td>\n",
       "      <td>0.529412</td>\n",
       "      <td>0.0</td>\n",
       "      <td>0.176471</td>\n",
       "      <td>0.058824</td>\n",
       "      <td>0.172222</td>\n",
       "      <td>0</td>\n",
       "    </tr>\n",
       "    <tr>\n",
       "      <th>001802e4</th>\n",
       "      <td>5.0</td>\n",
       "      <td>0.0</td>\n",
       "      <td>1.0</td>\n",
       "      <td>4.0</td>\n",
       "      <td>0.0</td>\n",
       "      <td>0.0</td>\n",
       "      <td>4.0</td>\n",
       "      <td>0.0</td>\n",
       "      <td>4.0</td>\n",
       "      <td>1.0</td>\n",
       "      <td>...</td>\n",
       "      <td>0.052632</td>\n",
       "      <td>0.210526</td>\n",
       "      <td>0.0</td>\n",
       "      <td>0.000000</td>\n",
       "      <td>0.210526</td>\n",
       "      <td>0.0</td>\n",
       "      <td>0.210526</td>\n",
       "      <td>0.052632</td>\n",
       "      <td>0.179444</td>\n",
       "      <td>0</td>\n",
       "    </tr>\n",
       "    <tr>\n",
       "      <th>0019e639</th>\n",
       "      <td>29.0</td>\n",
       "      <td>165.0</td>\n",
       "      <td>15.0</td>\n",
       "      <td>28.0</td>\n",
       "      <td>0.0</td>\n",
       "      <td>13.0</td>\n",
       "      <td>11.0</td>\n",
       "      <td>0.0</td>\n",
       "      <td>189.0</td>\n",
       "      <td>19.0</td>\n",
       "      <td>...</td>\n",
       "      <td>0.031847</td>\n",
       "      <td>0.059448</td>\n",
       "      <td>0.0</td>\n",
       "      <td>0.027601</td>\n",
       "      <td>0.023355</td>\n",
       "      <td>0.0</td>\n",
       "      <td>0.401274</td>\n",
       "      <td>0.040340</td>\n",
       "      <td>2743.832500</td>\n",
       "      <td>0</td>\n",
       "    </tr>\n",
       "    <tr>\n",
       "      <th>001b0bf9</th>\n",
       "      <td>0.0</td>\n",
       "      <td>1.0</td>\n",
       "      <td>2.0</td>\n",
       "      <td>1.0</td>\n",
       "      <td>0.0</td>\n",
       "      <td>0.0</td>\n",
       "      <td>0.0</td>\n",
       "      <td>0.0</td>\n",
       "      <td>2.0</td>\n",
       "      <td>0.0</td>\n",
       "      <td>...</td>\n",
       "      <td>0.285714</td>\n",
       "      <td>0.142857</td>\n",
       "      <td>0.0</td>\n",
       "      <td>0.000000</td>\n",
       "      <td>0.000000</td>\n",
       "      <td>0.0</td>\n",
       "      <td>0.285714</td>\n",
       "      <td>0.000000</td>\n",
       "      <td>0.255000</td>\n",
       "      <td>0</td>\n",
       "    </tr>\n",
       "  </tbody>\n",
       "</table>\n",
       "<p>5 rows × 23 columns</p>\n",
       "</div>"
      ],
      "text/plain": [
       "          ad campaign hit_x  brand listing_x  checkout_x  generic listing_x  \\\n",
       "person                                                                        \n",
       "0008ed71                0.0              0.0         3.0                1.0   \n",
       "000c79fe                1.0              0.0         1.0                1.0   \n",
       "001802e4                5.0              0.0         1.0                4.0   \n",
       "0019e639               29.0            165.0        15.0               28.0   \n",
       "001b0bf9                0.0              1.0         2.0                1.0   \n",
       "\n",
       "          lead_x  search engine hit_x  searched products_x  staticpage_x  \\\n",
       "person                                                                     \n",
       "0008ed71     0.0                  0.0                  0.0           0.0   \n",
       "000c79fe     0.0                  1.0                  9.0           0.0   \n",
       "001802e4     0.0                  0.0                  4.0           0.0   \n",
       "0019e639     0.0                 13.0                 11.0           0.0   \n",
       "001b0bf9     0.0                  0.0                  0.0           0.0   \n",
       "\n",
       "          viewed product_x  visited site_x  ...    checkout_y  \\\n",
       "person                                      ...                 \n",
       "0008ed71               0.0             2.0  ...      0.500000   \n",
       "000c79fe               3.0             1.0  ...      0.058824   \n",
       "001802e4               4.0             1.0  ...      0.052632   \n",
       "0019e639             189.0            19.0  ...      0.031847   \n",
       "001b0bf9               2.0             0.0  ...      0.285714   \n",
       "\n",
       "          generic listing_y  lead_y  search engine hit_y  searched products_y  \\\n",
       "person                                                                          \n",
       "0008ed71           0.166667     0.0             0.000000             0.000000   \n",
       "000c79fe           0.058824     0.0             0.058824             0.529412   \n",
       "001802e4           0.210526     0.0             0.000000             0.210526   \n",
       "0019e639           0.059448     0.0             0.027601             0.023355   \n",
       "001b0bf9           0.142857     0.0             0.000000             0.000000   \n",
       "\n",
       "          staticpage_y  viewed product_y  visited site_y  total_horas  label  \n",
       "person                                                                        \n",
       "0008ed71           0.0          0.000000        0.333333     4.013889      0  \n",
       "000c79fe           0.0          0.176471        0.058824     0.172222      0  \n",
       "001802e4           0.0          0.210526        0.052632     0.179444      0  \n",
       "0019e639           0.0          0.401274        0.040340  2743.832500      0  \n",
       "001b0bf9           0.0          0.285714        0.000000     0.255000      0  \n",
       "\n",
       "[5 rows x 23 columns]"
      ]
     },
     "execution_count": 7,
     "metadata": {},
     "output_type": "execute_result"
    }
   ],
   "source": [
    "intento = total_eventos.drop(['conversion_x','conversion_y'],axis='columns')\n",
    "intento_f = pd.merge(intento,res,on='person',how='inner')\n",
    "intento_f = intento_f.set_index('person')\n",
    "intento_f.head()"
   ]
  },
  {
   "cell_type": "code",
   "execution_count": 8,
   "metadata": {},
   "outputs": [],
   "source": [
    "x, y = intento_f.iloc[:,:-1],intento_f.iloc[:,-1]"
   ]
  },
  {
   "cell_type": "code",
   "execution_count": 9,
   "metadata": {},
   "outputs": [],
   "source": [
    "test_size = 0.2\n",
    "random_state = 0"
   ]
  },
  {
   "cell_type": "code",
   "execution_count": 10,
   "metadata": {},
   "outputs": [],
   "source": [
    "datos_train, datos_test, cat_train, cat_test = train_test_split(x, y, test_size = test_size, random_state = random_state)"
   ]
  },
  {
   "cell_type": "code",
   "execution_count": 11,
   "metadata": {},
   "outputs": [],
   "source": [
    "clf = RandomForestClassifier(n_jobs=1000,random_state=0)"
   ]
  },
  {
   "cell_type": "code",
   "execution_count": 12,
   "metadata": {},
   "outputs": [
    {
     "data": {
      "text/plain": [
       "RandomForestClassifier(bootstrap=True, class_weight=None, criterion='gini',\n",
       "            max_depth=None, max_features='auto', max_leaf_nodes=None,\n",
       "            min_impurity_decrease=0.0, min_impurity_split=None,\n",
       "            min_samples_leaf=1, min_samples_split=2,\n",
       "            min_weight_fraction_leaf=0.0, n_estimators=10, n_jobs=1000,\n",
       "            oob_score=False, random_state=0, verbose=0, warm_start=False)"
      ]
     },
     "execution_count": 12,
     "metadata": {},
     "output_type": "execute_result"
    }
   ],
   "source": [
    "clf.fit(datos_train,cat_train)"
   ]
  },
  {
   "cell_type": "code",
   "execution_count": 13,
   "metadata": {},
   "outputs": [
    {
     "name": "stdout",
     "output_type": "stream",
     "text": [
      "accuracy: 94.36%\n"
     ]
    }
   ],
   "source": [
    "cat_pred = clf.predict(datos_test)\n",
    "\n",
    "print('accuracy: {0:.2f}%'.format(accuracy_score(cat_test,cat_pred)*100))"
   ]
  },
  {
   "cell_type": "code",
   "execution_count": 14,
   "metadata": {},
   "outputs": [
    {
     "name": "stdout",
     "output_type": "stream",
     "text": [
      "RMSE: 0.237486\n"
     ]
    }
   ],
   "source": [
    "rmse = np.sqrt(mean_squared_error(cat_test, cat_pred))\n",
    "print(\"RMSE: %f\" % (rmse))"
   ]
  },
  {
   "cell_type": "code",
   "execution_count": 15,
   "metadata": {},
   "outputs": [],
   "source": [
    "final = pd.read_csv('trocafone_kaggle_test.csv')\n",
    "final = pd.merge(intento,final,on='person',how='inner')\n",
    "final = final.set_index('person')\n",
    "x_entrega = final"
   ]
  },
  {
   "cell_type": "code",
   "execution_count": 16,
   "metadata": {},
   "outputs": [],
   "source": [
    "entrega = clf.predict(x_entrega)\n",
    "y_summit = pd.DataFrame(entrega)\n",
    "y_summit.columns = ['label']\n",
    "y_summit['person'] = x_entrega.reset_index()['person']\n",
    "y_person = x_entrega.reset_index()['person']\n",
    "\n",
    "y_summit = y_summit[['person','label']]\n",
    "y_summit.to_csv('summit12.csv', index=False)"
   ]
  },
  {
   "cell_type": "code",
   "execution_count": 17,
   "metadata": {},
   "outputs": [
    {
     "data": {
      "text/plain": [
       "person    fffd1246\n",
       "label            1\n",
       "dtype: object"
      ]
     },
     "execution_count": 17,
     "metadata": {},
     "output_type": "execute_result"
    }
   ],
   "source": [
    "y_summit.max()"
   ]
  }
 ],
 "metadata": {
  "kernelspec": {
   "display_name": "Python 3",
   "language": "python",
   "name": "python3"
  },
  "language_info": {
   "codemirror_mode": {
    "name": "ipython",
    "version": 3
   },
   "file_extension": ".py",
   "mimetype": "text/x-python",
   "name": "python",
   "nbconvert_exporter": "python",
   "pygments_lexer": "ipython3",
   "version": "3.6.4"
  }
 },
 "nbformat": 4,
 "nbformat_minor": 2
}
