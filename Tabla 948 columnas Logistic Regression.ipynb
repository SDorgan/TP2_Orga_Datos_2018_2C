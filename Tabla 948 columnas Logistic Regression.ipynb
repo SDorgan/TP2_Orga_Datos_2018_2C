{
 "cells": [
  {
   "cell_type": "code",
   "execution_count": null,
   "metadata": {},
   "outputs": [],
   "source": [
    "import numpy as np\n",
    "import pandas as pd\n",
    "from sklearn import preprocessing\n",
    "import category_encoders as ce\n",
    "\n",
    "from sklearn.model_selection import train_test_split\n",
    "from sklearn.metrics import accuracy_score\n",
    "import numpy as np\n",
    "from sklearn.metrics import mean_squared_error\n",
    "from sklearn.ensemble import RandomForestClassifier\n",
    "import random\n",
    "import xgboost as xgb"
   ]
  },
  {
   "cell_type": "code",
   "execution_count": null,
   "metadata": {},
   "outputs": [],
   "source": [
    "datos = pd.read_csv('events_up_to_01062018.csv')\n",
    "tabla_completa = datos.copy()\n",
    "res = pd.read_csv('labels_training_set.csv');"
   ]
  },
  {
   "cell_type": "code",
   "execution_count": null,
   "metadata": {},
   "outputs": [],
   "source": [
    "tabla_completa['aux']=1\n",
    "#Voy a contar la cantidad para cada tipo de evento de cada persona\n",
    "num_eventos = tabla_completa.groupby(['person','event'])['aux'].sum()\n",
    "\n",
    "num_eventos = num_eventos.unstack().reset_index().fillna(0)\n",
    "num_eventos = num_eventos.set_index('person')\n",
    "num_eventos['total_eventos'] = num_eventos.sum(axis=1)\n",
    "#normalizo los numeros obtenidos según la cantidad de eventos totales de esa persona\n",
    "num_eventos_norm = num_eventos.loc[:,\"ad campaign hit\":\"visited site\"].div(num_eventos[\"total_eventos\"], axis=0)\n",
    "num_eventos_norm = num_eventos_norm.reset_index()\n",
    "num_eventos_norm.head()\n",
    "\n",
    "tabla_completa['timestamp'] = pd.to_datetime(tabla_completa['timestamp'])\n",
    "#tabla_completa['timestamp'].max() -tabla_completa['timestamp'].min()\n",
    "\n",
    "time_for_user = tabla_completa.groupby(['person'])['timestamp'].apply(lambda x: x.max() - x.min())\n",
    "time_for_user = time_for_user.reset_index()\n",
    "time_for_user['total_horas'] = time_for_user['timestamp'].dt.total_seconds()/3600\n",
    "time_for_user = time_for_user.drop(['timestamp'],axis='columns')\n",
    "\n",
    "max_time = tabla_completa.groupby(['person'])['timestamp'].apply(lambda x: x.max())\n",
    "max_time = max_time.reset_index()\n",
    "max_time['max'] = max_time['timestamp'].dt.month\n",
    "max_time = max_time.drop(['timestamp'],axis='columns')\n",
    "\n",
    "time_for_user = pd.merge(max_time,time_for_user,on='person',how='inner')\n",
    "\n",
    "min_time = tabla_completa.groupby(['person'])['timestamp'].apply(lambda x: x.min())\n",
    "min_time = min_time.reset_index()\n",
    "min_time['min'] = min_time['timestamp'].dt.month\n",
    "min_time = min_time.drop(['timestamp'],axis='columns')\n",
    "\n",
    "time_for_user = pd.merge(min_time,time_for_user,on='person',how='inner')\n",
    "\n",
    "num_eventos_norm = num_eventos_norm.reset_index()\n",
    "num_eventos = num_eventos.reset_index()\n",
    "total_eventos = pd.merge(num_eventos,num_eventos_norm, on='person',how='inner')\n",
    "total_eventos = pd.merge(total_eventos,time_for_user,on='person',how='inner')"
   ]
  },
  {
   "cell_type": "code",
   "execution_count": null,
   "metadata": {},
   "outputs": [],
   "source": [
    "total_eventos.shape"
   ]
  },
  {
   "cell_type": "code",
   "execution_count": null,
   "metadata": {},
   "outputs": [],
   "source": [
    "tabla_encode = datos.copy()\n",
    "tabla_encode.head()"
   ]
  },
  {
   "cell_type": "code",
   "execution_count": null,
   "metadata": {},
   "outputs": [],
   "source": [
    "tabla_encode = tabla_encode.fillna(0)"
   ]
  },
  {
   "cell_type": "code",
   "execution_count": null,
   "metadata": {},
   "outputs": [],
   "source": [
    "#device_type\n",
    "tabla_encode.groupby('device_type')['person'].count()\n",
    "#0 no cuenta (es que no hay evento)\n",
    "#son solo 4 tipos distintos, así que los mantengo todos"
   ]
  },
  {
   "cell_type": "code",
   "execution_count": null,
   "metadata": {},
   "outputs": [],
   "source": [
    "dev_type = tabla_encode[['person','device_type']]\n",
    "dev_type['aux'] = 1\n",
    "dev_type = dev_type.groupby(['person','device_type'])['aux'].count().unstack().reset_index().fillna(0)\n",
    "dev_type = dev_type.drop([0],axis=1)\n",
    "dev_type = dev_type.set_index('person')\n",
    "dev_type = dev_type.add_prefix('device_type_')\n",
    "dev_type = dev_type.reset_index()\n",
    "dev_type.shape"
   ]
  },
  {
   "cell_type": "code",
   "execution_count": null,
   "metadata": {},
   "outputs": [],
   "source": [
    "#device_type\n",
    "tabla_encode.groupby('browser_version')['person'].count().sort_values(ascending=False)\n",
    "#0 no cuenta (es que no hay evento)\n",
    "#son 367 tipos distintos. Voy a vovler a mirar, pero uniendo por versiones"
   ]
  },
  {
   "cell_type": "code",
   "execution_count": null,
   "metadata": {},
   "outputs": [],
   "source": [
    "test_b = tabla_encode['browser_version'].str.replace('\\d+', '')\n",
    "test_b = test_b.str.replace('.', '')\n",
    "test_b = test_b.str.strip()\n",
    "test_b2 = pd.DataFrame(test_b)\n",
    "test_b2['aux']=1\n",
    "test_b2 = test_b2.groupby('browser_version').count().reset_index().sort_values(by='aux',ascending=False)\n",
    "#Ahora me quedan 30 browsers. Voy a quedarme con los 5 más usados. El resto irá a una columna \"otros\".\n",
    "browsers = test_b2['browser_version'].head()\n",
    "browsers"
   ]
  },
  {
   "cell_type": "code",
   "execution_count": null,
   "metadata": {},
   "outputs": [],
   "source": [
    "browser_version = tabla_encode[['person','browser_version']]\n",
    "browser_version['aux'] = 1\n",
    "browser_version = browser_version.groupby(['person','browser_version'])['aux'].count().unstack().reset_index().fillna(0)\n",
    "browser_version = browser_version.drop([0],axis=1)\n",
    "browser_version = browser_version.set_index('person')\n",
    "browser_version = browser_version.add_prefix('browser_version_')\n",
    "browser_version = browser_version.reset_index()\n",
    "browser_version.shape\n"
   ]
  },
  {
   "cell_type": "code",
   "execution_count": null,
   "metadata": {},
   "outputs": [],
   "source": [
    "#screen_resolution\n",
    "test_s = tabla_encode['screen_resolution']\n",
    "test_s = pd.DataFrame(test_s)\n",
    "test_s['aux']=1\n",
    "test_s = test_s.groupby('screen_resolution').count().reset_index().sort_values(by='aux',ascending=False)\n",
    "test_s = test_s.drop([0],axis=0)\n",
    "\n",
    "resolutions = test_s['screen_resolution'].head()\n",
    "resolutions\n",
    "#Me quedo con las 5 resoluciones que mas buscan"
   ]
  },
  {
   "cell_type": "code",
   "execution_count": null,
   "metadata": {},
   "outputs": [],
   "source": [
    "screen_resolution = tabla_encode[['person','screen_resolution']]\n",
    "screen_resolution['aux'] = 1\n",
    "screen_resolution = screen_resolution.groupby(['person','screen_resolution'])['aux'].count().unstack().reset_index().fillna(0)\n",
    "screen_resolution = screen_resolution.drop([0],axis=1)\n",
    "screen_resolution = screen_resolution.set_index('person')\n",
    "screen_resolution = screen_resolution.add_prefix('screen_resolution_')\n",
    "screen_resolution = screen_resolution.reset_index()\n",
    "screen_resolution.shape\n"
   ]
  },
  {
   "cell_type": "code",
   "execution_count": null,
   "metadata": {},
   "outputs": [],
   "source": [
    "#operating_system_version\n",
    "test_os = tabla_encode['operating_system_version'].str.replace('\\d+', '')\n",
    "test_os = test_os.str.replace('.', '')\n",
    "test_os = test_os.str.strip()\n",
    "test_os2 = pd.DataFrame(test_os)\n",
    "test_os2['aux']=1\n",
    "test_os2 = test_os2.groupby('operating_system_version').count().reset_index().sort_values(by='aux',ascending=False)\n",
    "test_os2\n",
    "\n",
    "OSs = test_os2['operating_system_version'].head()\n",
    "OSs\n",
    "#Me quedo con las 5 resoluciones que mas buscan"
   ]
  },
  {
   "cell_type": "code",
   "execution_count": null,
   "metadata": {},
   "outputs": [],
   "source": [
    "operating_system_version = tabla_encode[['person','operating_system_version']]\n",
    "operating_system_version['aux'] = 1\n",
    "operating_system_version = operating_system_version.groupby(['person','operating_system_version'])['aux'].count().unstack().reset_index().fillna(0)\n",
    "operating_system_version = operating_system_version.drop([0],axis=1)\n",
    "operating_system_version = operating_system_version.set_index('person')\n",
    "operating_system_version = operating_system_version.add_prefix('operating_system_version_')\n",
    "operating_system_version = operating_system_version.reset_index()\n",
    "operating_system_version.shape\n"
   ]
  },
  {
   "cell_type": "code",
   "execution_count": null,
   "metadata": {},
   "outputs": [],
   "source": [
    "#storage\n",
    "test_st = tabla_encode['storage']\n",
    "test_st = pd.DataFrame(test_st)\n",
    "test_st['aux']=1\n",
    "test_st = test_st.groupby('storage').count().reset_index().sort_values(by='aux',ascending=False)\n",
    "test_st = test_st.drop([0],axis=0)\n",
    "\n",
    "storages = test_st['storage'].head()\n",
    "storages\n",
    "#Me quedo con las 5 resoluciones que mas buscan"
   ]
  },
  {
   "cell_type": "code",
   "execution_count": null,
   "metadata": {},
   "outputs": [],
   "source": [
    "storage = tabla_encode[['person','storage']]\n",
    "storage['aux'] = 1\n",
    "storage = storage.groupby(['person','storage'])['aux'].count().unstack().reset_index().fillna(0)\n",
    "storage = storage.drop([0],axis=1)\n",
    "storage = storage.set_index('person')\n",
    "storage = storage.add_prefix('storage_')\n",
    "storage = storage.reset_index()\n",
    "storage.shape\n"
   ]
  },
  {
   "cell_type": "code",
   "execution_count": null,
   "metadata": {},
   "outputs": [],
   "source": [
    "#condition\n",
    "test_c = tabla_encode['condition']\n",
    "test_c = pd.DataFrame(test_c)\n",
    "test_c['aux']=1\n",
    "test_c = test_c.groupby('condition').count().reset_index().sort_values(by='aux',ascending=False)\n",
    "test_c = test_c.drop([0],axis=0)\n",
    "test_c\n",
    "\n",
    "#Ya son 5, me quedo todas."
   ]
  },
  {
   "cell_type": "code",
   "execution_count": null,
   "metadata": {},
   "outputs": [],
   "source": [
    "condition = tabla_encode[['person','condition']]\n",
    "condition['aux'] = 1\n",
    "condition = condition.groupby(['person','condition'])['aux'].count().unstack().reset_index().fillna(0)\n",
    "condition = condition.drop([0],axis=1)\n",
    "condition = condition.set_index('person')\n",
    "condition = condition.add_prefix('condition_')\n",
    "condition = condition.reset_index()\n",
    "condition.shape"
   ]
  },
  {
   "cell_type": "code",
   "execution_count": null,
   "metadata": {},
   "outputs": [],
   "source": [
    "#new_vs_returning\n",
    "test_nv = tabla_encode['new_vs_returning']\n",
    "test_nv = pd.DataFrame(test_nv)\n",
    "test_nv['aux']=1\n",
    "test_nv = test_nv.groupby('new_vs_returning').count().reset_index().sort_values(by='aux',ascending=False)\n",
    "test_nv = test_nv.drop([0],axis=0)\n",
    "test_nv\n",
    "#Son solo 2 valores"
   ]
  },
  {
   "cell_type": "code",
   "execution_count": null,
   "metadata": {},
   "outputs": [],
   "source": [
    "#Esta la hago un count.\n",
    "new_vs_returning = tabla_encode[['person','new_vs_returning']]\n",
    "new_vs_returning['aux'] = 1\n",
    "new_vs_returning = new_vs_returning.groupby(['person','new_vs_returning'])['aux'].count().unstack().reset_index().fillna(0)\n",
    "new_vs_returning = new_vs_returning.drop([0],axis=1)\n",
    "new_vs_returning = new_vs_returning.set_index('person')\n",
    "new_vs_returning = new_vs_returning.add_prefix('new_vs_returning_')\n",
    "new_vs_returning = new_vs_returning.reset_index()\n",
    "new_vs_returning.shape"
   ]
  },
  {
   "cell_type": "code",
   "execution_count": null,
   "metadata": {},
   "outputs": [],
   "source": [
    "#search_engine\n",
    "test_se = tabla_encode['search_engine']\n",
    "test_se = pd.DataFrame(test_se)\n",
    "test_se['aux']=1\n",
    "test_se = test_se.groupby('search_engine').count().reset_index().sort_values(by='aux',ascending=False)\n",
    "test_se = test_se.drop([0],axis=0)\n",
    "test_se\n",
    "#Son solo 4 valores"
   ]
  },
  {
   "cell_type": "code",
   "execution_count": null,
   "metadata": {},
   "outputs": [],
   "source": [
    "#Esta la hago un count.\n",
    "search_engine = tabla_encode[['person','search_engine']]\n",
    "search_engine['aux'] = 1\n",
    "search_engine = search_engine.groupby(['person','search_engine'])['aux'].count().unstack().reset_index().fillna(0)\n",
    "search_engine = search_engine.drop([0],axis=1)\n",
    "search_engine = search_engine.set_index('person')\n",
    "search_engine = search_engine.add_prefix('search_engine_')\n",
    "search_engine = search_engine.reset_index()\n",
    "search_engine.shape"
   ]
  },
  {
   "cell_type": "code",
   "execution_count": null,
   "metadata": {},
   "outputs": [],
   "source": [
    "#channel\n",
    "test_ch = tabla_encode['channel']\n",
    "test_ch = pd.DataFrame(test_ch)\n",
    "test_ch['aux']=1\n",
    "test_ch = test_ch.groupby('channel').count().reset_index().sort_values(by='aux',ascending=False)\n",
    "test_ch = test_ch.drop([0],axis=0)\n",
    "test_ch\n",
    "#Mantengo los 7 valores"
   ]
  },
  {
   "cell_type": "code",
   "execution_count": null,
   "metadata": {},
   "outputs": [],
   "source": [
    "#Esta la hago un count.\n",
    "channel = tabla_encode[['person','channel']]\n",
    "channel['aux'] = 1\n",
    "channel = channel.groupby(['person','channel'])['aux'].count().unstack().reset_index().fillna(0)\n",
    "channel = channel.drop([0],axis=1)\n",
    "channel = channel.set_index('person')\n",
    "channel = channel.add_prefix('channel_')\n",
    "channel = channel.reset_index()\n",
    "channel.shape"
   ]
  },
  {
   "cell_type": "code",
   "execution_count": null,
   "metadata": {},
   "outputs": [],
   "source": [
    "#Ahora a unir todo..."
   ]
  },
  {
   "cell_type": "code",
   "execution_count": null,
   "metadata": {},
   "outputs": [],
   "source": [
    "tabla_final = pd.merge(total_eventos,dev_type,on='person',how='inner')\n",
    "tabla_final = pd.merge(tabla_final,screen_resolution,on='person',how='inner')\n",
    "tabla_final = pd.merge(tabla_final,storage,on='person',how='inner')\n",
    "tabla_final = pd.merge(tabla_final,condition,on='person',how='inner')\n",
    "tabla_final = pd.merge(tabla_final,new_vs_returning,on='person',how='inner')\n",
    "tabla_final = pd.merge(tabla_final,search_engine,on='person',how='inner')\n",
    "tabla_final = pd.merge(tabla_final,channel,on='person',how='inner')\n",
    "tabla_final = pd.merge(tabla_final,browser_version,on='person',how='left')\n",
    "tabla_final = pd.merge(tabla_final,operating_system_version,on='person',how='left')\n",
    "tabla_final = tabla_final.fillna(0)\n",
    "tabla_final.shape"
   ]
  },
  {
   "cell_type": "code",
   "execution_count": null,
   "metadata": {},
   "outputs": [],
   "source": [
    "tabla_final.info()"
   ]
  },
  {
   "cell_type": "code",
   "execution_count": null,
   "metadata": {},
   "outputs": [],
   "source": [
    "\n",
    "intento_f = pd.merge(tabla_final,res,on='person',how='inner')\n",
    "\n",
    "intento_f = intento_f.set_index('person')"
   ]
  },
  {
   "cell_type": "code",
   "execution_count": null,
   "metadata": {},
   "outputs": [],
   "source": [
    "final = pd.read_csv('trocafone_kaggle_test.csv')\n",
    "final = pd.merge(tabla_final,final,on='person',how='inner')\n",
    "final = final.set_index('person')\n",
    "x_entrega = final"
   ]
  },
  {
   "cell_type": "code",
   "execution_count": null,
   "metadata": {},
   "outputs": [],
   "source": [
    "#XGBoost\n",
    "\n",
    "X, y = intento_f.iloc[:,:-1],intento_f.iloc[:,-1]\n",
    "data_dmatrix = xgb.DMatrix(data=X,label=y)\n"
   ]
  },
  {
   "cell_type": "code",
   "execution_count": null,
   "metadata": {},
   "outputs": [],
   "source": [
    "from sklearn.model_selection import train_test_split\n",
    "\n",
    "X_train, X_test, y_train, y_test = \\\n",
    "    train_test_split(X, y, test_size=0.2, random_state=123)\n",
    "    \n",
    "clf = LogisticRegression(random_state=124, solver='lbfgs', multi_class='multinomial')\n",
    "\n",
    "model = clf.fit(X_train,y_train)\n"
   ]
  },
  {
   "cell_type": "code",
   "execution_count": null,
   "metadata": {},
   "outputs": [],
   "source": [
    "#Veo la importancia de cada variable\n",
    "from tabulate import tabulate\n",
    "headers = [\"name\", \"score\"]\n",
    "values = sorted(zip(datos_train.columns, model.feature_importances_), key=lambda x: x[1] * -1)\n",
    "print(tabulate(values, headers, tablefmt=\"plain\"))"
   ]
  },
  {
   "cell_type": "code",
   "execution_count": null,
   "metadata": {},
   "outputs": [],
   "source": []
  }
 ],
 "metadata": {
  "kernelspec": {
   "display_name": "Python 3",
   "language": "python",
   "name": "python3"
  },
  "language_info": {
   "codemirror_mode": {
    "name": "ipython",
    "version": 3
   },
   "file_extension": ".py",
   "mimetype": "text/x-python",
   "name": "python",
   "nbconvert_exporter": "python",
   "pygments_lexer": "ipython3",
   "version": "3.6.4"
  }
 },
 "nbformat": 4,
 "nbformat_minor": 2
}
