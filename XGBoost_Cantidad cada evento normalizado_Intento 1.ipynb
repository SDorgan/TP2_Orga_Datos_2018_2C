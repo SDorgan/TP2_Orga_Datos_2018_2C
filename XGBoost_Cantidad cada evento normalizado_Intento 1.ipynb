{
 "cells": [
  {
   "cell_type": "code",
   "execution_count": 1,
   "metadata": {},
   "outputs": [],
   "source": [
    "import xgboost as xgb\n",
    "from sklearn.metrics import mean_squared_error\n",
    "import pandas as pd\n",
    "import numpy as np"
   ]
  },
  {
   "cell_type": "code",
   "execution_count": 2,
   "metadata": {},
   "outputs": [
    {
     "name": "stderr",
     "output_type": "stream",
     "text": [
      "C:\\Users\\Santi\\AppData\\Roaming\\Python\\Python36\\site-packages\\IPython\\core\\interactiveshell.py:2728: DtypeWarning: Columns (3,5,6,7,8,9,10,11,12,13,14,15,16,17,18,19,20,21,22) have mixed types. Specify dtype option on import or set low_memory=False.\n",
      "  interactivity=interactivity, compiler=compiler, result=result)\n"
     ]
    }
   ],
   "source": [
    "tabla_completa = pd.read_csv('events_up_to_01062018.csv');\n",
    "res = pd.read_csv('labels_training_set.csv');"
   ]
  },
  {
   "cell_type": "code",
   "execution_count": 3,
   "metadata": {},
   "outputs": [],
   "source": [
    "tabla_completa['aux']=1\n",
    "#Voy a contar la cantidad para cada tipo de evento de cada persona\n",
    "num_eventos = tabla_completa.groupby(['person','event'])['aux'].sum()\n",
    "\n",
    "num_eventos = num_eventos.unstack().reset_index().fillna(0)\n",
    "num_eventos = num_eventos.set_index('person')\n",
    "num_eventos['total_eventos'] = num_eventos.sum(axis=1)\n",
    "#normalizo los numeros obtenidos según la cantidad de eventos totales de esa persona\n",
    "num_eventos_norm = num_eventos.loc[:,\"ad campaign hit\":\"visited site\"].div(num_eventos[\"total_eventos\"], axis=0)\n",
    "#num_eventos.sort_values(by='conversion',ascending=False)\n",
    "#num_eventos_norm.sort_values(by='conversion',ascending=False)\n",
    "num_eventos_norm = num_eventos_norm.reset_index()"
   ]
  },
  {
   "cell_type": "code",
   "execution_count": 4,
   "metadata": {},
   "outputs": [],
   "source": [
    "intento = num_eventos_norm.drop(['conversion'],axis='columns')\n",
    "intento_f = pd.merge(intento,res,on='person',how='inner')\n",
    "\n",
    "intento_f = intento_f.set_index('person')"
   ]
  },
  {
   "cell_type": "code",
   "execution_count": 6,
   "metadata": {},
   "outputs": [],
   "source": [
    "final = pd.read_csv('trocafone_kaggle_test.csv')\n",
    "final = pd.merge(intento,final,on='person',how='inner')\n",
    "final = final.set_index('person')\n",
    "x_entrega = final"
   ]
  },
  {
   "cell_type": "code",
   "execution_count": 7,
   "metadata": {},
   "outputs": [],
   "source": [
    "#XGBoost\n",
    "\n",
    "X, y = intento_f.iloc[:,:-1],intento_f.iloc[:,-1]\n",
    "data_dmatrix = xgb.DMatrix(data=X,label=y)\n"
   ]
  },
  {
   "cell_type": "code",
   "execution_count": 8,
   "metadata": {},
   "outputs": [
    {
     "data": {
      "text/plain": [
       "XGBRegressor(alpha=10, base_score=0.5, booster='gbtree', colsample_bylevel=1,\n",
       "       colsample_bytree=0.3, gamma=0, learning_rate=0.1, max_delta_step=0,\n",
       "       max_depth=5, min_child_weight=1, missing=None, n_estimators=10,\n",
       "       n_jobs=1, nthread=None, objective='reg:linear', random_state=0,\n",
       "       reg_alpha=0, reg_lambda=1, scale_pos_weight=1, seed=None,\n",
       "       silent=True, subsample=1)"
      ]
     },
     "execution_count": 8,
     "metadata": {},
     "output_type": "execute_result"
    }
   ],
   "source": [
    "from sklearn.model_selection import train_test_split\n",
    "\n",
    "X_train, X_test, y_train, y_test = \\\n",
    "    train_test_split(X, y, test_size=0.2, random_state=123)\n",
    "    \n",
    "xg_reg = xgb.XGBRegressor(objective ='reg:linear', \n",
    "                colsample_bytree = 0.3, learning_rate = 0.1,\n",
    "                max_depth = 5, alpha = 10, n_estimators = 10)\n",
    "\n",
    "xg_reg.fit(X_train,y_train)"
   ]
  },
  {
   "cell_type": "code",
   "execution_count": 9,
   "metadata": {},
   "outputs": [
    {
     "name": "stdout",
     "output_type": "stream",
     "text": [
      "RMSE: 0.265223\n"
     ]
    }
   ],
   "source": [
    "preds = xg_reg.predict(X_test)\n",
    "rmse = np.sqrt(mean_squared_error(y_test, preds))\n",
    "print(\"RMSE: %f\" % (rmse))"
   ]
  },
  {
   "cell_type": "code",
   "execution_count": 10,
   "metadata": {},
   "outputs": [],
   "source": [
    "entrega = xg_reg.predict(x_entrega)\n",
    "y_summit = pd.DataFrame(entrega)\n",
    "y_summit.columns = ['label']\n",
    "y_summit['person'] = x_entrega.reset_index()['person']\n",
    "y_person = x_entrega.reset_index()['person']\n",
    "\n",
    "y_summit = y_summit[['person','label']]\n",
    "y_summit.to_csv('summit01.csv', index=False)"
   ]
  },
  {
   "cell_type": "code",
   "execution_count": 11,
   "metadata": {},
   "outputs": [
    {
     "data": {
      "text/plain": [
       "person    fffd1246\n",
       "label     0.420707\n",
       "dtype: object"
      ]
     },
     "execution_count": 11,
     "metadata": {},
     "output_type": "execute_result"
    }
   ],
   "source": [
    "y_summit.max()"
   ]
  }
 ],
 "metadata": {
  "kernelspec": {
   "display_name": "Python 3",
   "language": "python",
   "name": "python3"
  },
  "language_info": {
   "codemirror_mode": {
    "name": "ipython",
    "version": 3
   },
   "file_extension": ".py",
   "mimetype": "text/x-python",
   "name": "python",
   "nbconvert_exporter": "python",
   "pygments_lexer": "ipython3",
   "version": "3.6.4"
  }
 },
 "nbformat": 4,
 "nbformat_minor": 2
}
